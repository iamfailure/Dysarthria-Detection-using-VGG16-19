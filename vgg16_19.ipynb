{
  "nbformat": 4,
  "nbformat_minor": 0,
  "metadata": {
    "colab": {
      "provenance": []
    },
    "kernelspec": {
      "name": "python3",
      "display_name": "Python 3"
    },
    "language_info": {
      "name": "python"
    }
  },
  "cells": [
    {
      "cell_type": "code",
      "execution_count": null,
      "metadata": {
        "id": "nJrKrQXxLq6D"
      },
      "outputs": [],
      "source": [
        "import numpy as np\n",
        "import pandas as pd\n",
        "import tensorflow as tf\n",
        "import keras\n",
        "import librosa\n",
        "import pylab\n",
        "import os\n",
        "import librosa.display"
      ]
    },
    {
      "cell_type": "code",
      "source": [
        "def feature_extractor(path, custpath, name):\n",
        "\n",
        "  try:\n",
        "    audio,sr = librosa.load(path)\n",
        "    #Mel Spectogram\n",
        "    pylab.axis('off') # no axis\n",
        "    pylab.axes([0., 0., 1., 1.], frameon=False, xticks=[], yticks=[])\n",
        "    melspec  = librosa.feature.melspectrogram(y=audio,sr=sr)\n",
        "    s_db     = librosa.power_to_db(melspec, ref=np.max)\n",
        "    librosa.display.specshow(s_db)\n",
        "    \n",
        "    savepath = os.path.join(custpath,name+'.png')\n",
        "    pylab.savefig(savepath, bbox_inches=None, pad_inches=0)\n",
        "    pylab.close()\n",
        "  except:\n",
        "    print('File cannot open')\n",
        "    return None\n",
        "\n",
        "  return savepath"
      ],
      "metadata": {
        "id": "905DjGXgMCd-"
      },
      "execution_count": null,
      "outputs": []
    },
    {
      "cell_type": "code",
      "source": [
        "path = '/content/drive/MyDrive/torgo_data'"
      ],
      "metadata": {
        "id": "pb6VGG3NMi7x"
      },
      "execution_count": null,
      "outputs": []
    },
    {
      "cell_type": "code",
      "source": [
        "mel_path = '/content/drive/MyDrive/torgo_mel_spec'"
      ],
      "metadata": {
        "id": "zG2lducrPoLd"
      },
      "execution_count": null,
      "outputs": []
    },
    {
      "cell_type": "code",
      "source": [
        "len(os.listdir('/content/drive/MyDrive/torgo_data/non_dysarthria_female'))"
      ],
      "metadata": {
        "colab": {
          "base_uri": "https://localhost:8080/"
        },
        "id": "rnkVEBpBPvTC",
        "outputId": "a9b1c122-1252-405a-e951-a5d0d120b463"
      },
      "execution_count": null,
      "outputs": [
        {
          "output_type": "execute_result",
          "data": {
            "text/plain": [
              "500"
            ]
          },
          "metadata": {},
          "execution_count": 4
        }
      ]
    },
    {
      "cell_type": "code",
      "source": [
        "from keras.layers import Input, Lambda, Dense, Flatten,Conv2D,MaxPooling2D,Dropout,Flatten\n",
        "from keras.models import Model,Sequential\n",
        "#from keras.applications.resnet50 import ResNet50\n",
        "from keras.applications.vgg16 import VGG16\n",
        "from keras.applications.vgg16 import preprocess_input\n",
        "from keras.preprocessing import image\n",
        "from keras.preprocessing.image import ImageDataGenerator\n",
        "from keras.models import Sequential\n",
        "import numpy as np\n",
        "from glob import glob\n",
        "import matplotlib.pyplot as plt\n",
        "import os"
      ],
      "metadata": {
        "id": "Qi2uLftTSY-Q"
      },
      "execution_count": null,
      "outputs": []
    },
    {
      "cell_type": "code",
      "source": [
        "import cv2\n",
        "import os\n",
        "import glob\n",
        "\n",
        "train_data = []\n",
        "train_labels = []\n",
        "\n",
        "for per in os.listdir('drive/MyDrive/torgo_mel_spec/'):\n",
        "    for data in glob.glob('drive/MyDrive/torgo_mel_spec/' +per+'/*.*'):\n",
        "        img = cv2.imread(data)\n",
        "        img = cv2.cvtColor(img, cv2.COLOR_BGR2RGB)\n",
        "        img = cv2.resize(img, (224,224))\n",
        "        train_data.append([img])\n",
        "        if per==\"dysarthria_female\":\n",
        "            train_labels.append(np.array(0))\n",
        "        elif(per==\"dysarthria_male\"):\n",
        "            train_labels.append(np.array(1))\n",
        "        elif(per==\"non_dysarthria_female\"):\n",
        "            train_labels.append(np.array(2))\n",
        "        else :\n",
        "            train_labels.append(np.array(3))\n",
        "train_data = np.array(train_data)/255.0\n",
        "train_labels = np.array(train_labels)"
      ],
      "metadata": {
        "id": "-R8g0z44DvFD"
      },
      "execution_count": null,
      "outputs": []
    },
    {
      "cell_type": "code",
      "source": [
        "print(train_labels)"
      ],
      "metadata": {
        "id": "Kvn_bbmYEqwy",
        "colab": {
          "base_uri": "https://localhost:8080/"
        },
        "outputId": "87121d47-5837-4235-e421-dfc1ef0d75d5"
      },
      "execution_count": null,
      "outputs": [
        {
          "output_type": "stream",
          "name": "stdout",
          "text": [
            "[array(0), array(0), array(0), array(0), array(0), array(0), array(0), array(0), array(0), array(0), array(0), array(0), array(0), array(0), array(0), array(0), array(0), array(0), array(0), array(0), array(0), array(0), array(0), array(0), array(0), array(0), array(0), array(0), array(0), array(0), array(0), array(0), array(0), array(0), array(0), array(0), array(0), array(0), array(0), array(0), array(0), array(0), array(0), array(0), array(0), array(0), array(0), array(0), array(0), array(0), array(0), array(0), array(0), array(0), array(0), array(0), array(0), array(0), array(0), array(0), array(0), array(0), array(0), array(0), array(0), array(0), array(0), array(0), array(0), array(0), array(0), array(0), array(0), array(0), array(0), array(0), array(0), array(0), array(0), array(0), array(0), array(0), array(0), array(0), array(0), array(0), array(0), array(0), array(0), array(0), array(0), array(0), array(0), array(0), array(0), array(0), array(0), array(0), array(0), array(0), array(0), array(0), array(0), array(0), array(0), array(0), array(0), array(0), array(0), array(0), array(0), array(0), array(0), array(0), array(0), array(0), array(0), array(0), array(0), array(0), array(0), array(0), array(0), array(0), array(0), array(0), array(0), array(0), array(0), array(0), array(0), array(0), array(0), array(0), array(0), array(0), array(0), array(0), array(0), array(0), array(0), array(0), array(0), array(0), array(0), array(0), array(0), array(0), array(0), array(0), array(0), array(0), array(0), array(0), array(0), array(0), array(0), array(0), array(0), array(0), array(0), array(0), array(0), array(0), array(0), array(0), array(0), array(0), array(0), array(0), array(0), array(0), array(0), array(0), array(0), array(0), array(0), array(0), array(0), array(0), array(0), array(0), array(0), array(0), array(0), array(0), array(0), array(0), array(0), array(0), array(0), array(0), array(0), array(0), array(0), array(0), array(0), array(0), array(0), array(0), array(0), array(0), array(0), array(0), array(0), array(0), array(0), array(0), array(0), array(0), array(0), array(0), array(0), array(0), array(0), array(0), array(0), array(0), array(0), array(0), array(0), array(0), array(0), array(0), array(0), array(0), array(0), array(0), array(0), array(0), array(0), array(0), array(0), array(0), array(0), array(0), array(0), array(0), array(0), array(0), array(0), array(0), array(0), array(0), array(0), array(0), array(0), array(0), array(0), array(0), array(0), array(0), array(0), array(0), array(0), array(0), array(0), array(0), array(0), array(0), array(0), array(0), array(0), array(0), array(0), array(0), array(0), array(0), array(0), array(0), array(0), array(0), array(0), array(0), array(0), array(0), array(0), array(0), array(0), array(0), array(0), array(0), array(0), array(0), array(0), array(0), array(0), array(0), array(0), array(0), array(0), array(0), array(0), array(0), array(0), array(0), array(0), array(0), array(0), array(0), array(0), array(0), array(0), array(0), array(0), array(0), array(0), array(0), array(0), array(0), array(0), array(0), array(0), array(0), array(0), array(0), array(0), array(0), array(0), array(0), array(0), array(0), array(0), array(0), array(0), array(0), array(0), array(0), array(0), array(0), array(0), array(0), array(0), array(0), array(0), array(0), array(0), array(0), array(0), array(0), array(0), array(0), array(0), array(0), array(0), array(0), array(0), array(0), array(0), array(0), array(0), array(0), array(0), array(0), array(0), array(0), array(0), array(0), array(0), array(0), array(0), array(0), array(0), array(0), array(0), array(0), array(0), array(0), array(0), array(0), array(0), array(0), array(0), array(0), array(0), array(0), array(0), array(0), array(0), array(0), array(0), array(0), array(0), array(0), array(0), array(0), array(0), array(0), array(0), array(0), array(0), array(0), array(0), array(0), array(0), array(0), array(0), array(0), array(0), array(0), array(0), array(0), array(0), array(0), array(0), array(0), array(0), array(0), array(0), array(0), array(0), array(0), array(0), array(0), array(0), array(0), array(0), array(0), array(0), array(0), array(0), array(0), array(0), array(0), array(0), array(0), array(0), array(0), array(0), array(0), array(0), array(0), array(0), array(0), array(0), array(0), array(0), array(0), array(0), array(0), array(0), array(0), array(0), array(0), array(0), array(0), array(0), array(0), array(0), array(0), array(0), array(0), array(0), array(0), array(0), array(0), array(0), array(0), array(0), array(0), array(0), array(0), array(0), array(0), array(0), array(0), array(0), array(0), array(0), array(0), array(0), array(0), array(0), array(0), array(0), array(0), array(0), array(0), array(0), array(0), array(0), array(0), array(0), array(0), array(0), array(0), array(0), array(0), array(0), array(0), array(0), array(0), array(0), array(0), array(0), array(0), array(0), array(0), array(0), array(1), array(1), array(1), array(1), array(1), array(1), array(1), array(1), array(1), array(1), array(1), array(1), array(1), array(1), array(1), array(1), array(1), array(1), array(1), array(1), array(1), array(1), array(1), array(1), array(1), array(1), array(1), array(1), array(1), array(1), array(1), array(1), array(1), array(1), array(1), array(1), array(1), array(1), array(1), array(1), array(1), array(1), array(1), array(1), array(1), array(1), array(1), array(1), array(1), array(1), array(1), array(1), array(1), array(1), array(1), array(1), array(1), array(1), array(1), array(1), array(1), array(1), array(1), array(1), array(1), array(1), array(1), array(1), array(1), array(1), array(1), array(1), array(1), array(1), array(1), array(1), array(1), array(1), array(1), array(1), array(1), array(1), array(1), array(1), array(1), array(1), array(1), array(1), array(1), array(1), array(1), array(1), array(1), array(1), array(1), array(1), array(1), array(1), array(1), array(1), array(1), array(1), array(1), array(1), array(1), array(1), array(1), array(1), array(1), array(1), array(1), array(1), array(1), array(1), array(1), array(1), array(1), array(1), array(1), array(1), array(1), array(1), array(1), array(1), array(1), array(1), array(1), array(1), array(1), array(1), array(1), array(1), array(1), array(1), array(1), array(1), array(1), array(1), array(1), array(1), array(1), array(1), array(1), array(1), array(1), array(1), array(1), array(1), array(1), array(1), array(1), array(1), array(1), array(1), array(1), array(1), array(1), array(1), array(1), array(1), array(1), array(1), array(1), array(1), array(1), array(1), array(1), array(1), array(1), array(1), array(1), array(1), array(1), array(1), array(1), array(1), array(1), array(1), array(1), array(1), array(1), array(1), array(1), array(1), array(1), array(1), array(1), array(1), array(1), array(1), array(1), array(1), array(1), array(1), array(1), array(1), array(1), array(1), array(1), array(1), array(1), array(1), array(1), array(1), array(1), array(1), array(1), array(1), array(1), array(1), array(1), array(1), array(1), array(1), array(1), array(1), array(1), array(1), array(1), array(1), array(1), array(1), array(1), array(1), array(1), array(1), array(1), array(1), array(1), array(1), array(1), array(1), array(1), array(1), array(1), array(1), array(1), array(1), array(1), array(1), array(1), array(1), array(1), array(1), array(1), array(1), array(1), array(1), array(1), array(1), array(1), array(1), array(1), array(1), array(1), array(1), array(1), array(1), array(1), array(1), array(1), array(1), array(1), array(1), array(1), array(1), array(1), array(1), array(1), array(1), array(1), array(1), array(1), array(1), array(1), array(1), array(1), array(1), array(1), array(1), array(1), array(1), array(1), array(1), array(1), array(1), array(1), array(1), array(1), array(1), array(1), array(1), array(1), array(1), array(1), array(1), array(1), array(1), array(1), array(1), array(1), array(1), array(1), array(1), array(1), array(1), array(1), array(1), array(1), array(1), array(1), array(1), array(1), array(1), array(1), array(1), array(1), array(1), array(1), array(1), array(1), array(1), array(1), array(1), array(1), array(1), array(1), array(1), array(1), array(1), array(1), array(1), array(1), array(1), array(1), array(1), array(1), array(1), array(1), array(1), array(1), array(1), array(1), array(1), array(1), array(1), array(1), array(1), array(1), array(1), array(1), array(1), array(1), array(1), array(1), array(1), array(1), array(1), array(1), array(1), array(1), array(1), array(1), array(1), array(1), array(1), array(1), array(1), array(1), array(1), array(1), array(1), array(1), array(1), array(1), array(1), array(1), array(1), array(1), array(1), array(1), array(1), array(1), array(1), array(1), array(1), array(1), array(1), array(1), array(1), array(1), array(1), array(1), array(1), array(1), array(1), array(1), array(1), array(1), array(1), array(1), array(1), array(1), array(1), array(1), array(1), array(1), array(1), array(1), array(1), array(1), array(1), array(1), array(1), array(1), array(1), array(1), array(1), array(1), array(1), array(1), array(1), array(1), array(1), array(1), array(1), array(1), array(1), array(1), array(1), array(1), array(1), array(1), array(1), array(1), array(1), array(1), array(1), array(1), array(1), array(1), array(1), array(1), array(1), array(1), array(1), array(1), array(1), array(1), array(1), array(1), array(1), array(1), array(1), array(1), array(1), array(1), array(1), array(1), array(1), array(1), array(1), array(1), array(1), array(1), array(1), array(1), array(1), array(1), array(1), array(1), array(1), array(1), array(1), array(1), array(1), array(1), array(1), array(1), array(1), array(1), array(1), array(1), array(1), array(1), array(1), array(1), array(1), array(1), array(1), array(1), array(1), array(1), array(1), array(1), array(1), array(1), array(1), array(1), array(1), array(2), array(2), array(2), array(2), array(2), array(2), array(2), array(2), array(2), array(2), array(2), array(2), array(2), array(2), array(2), array(2), array(2), array(2), array(2), array(2), array(2), array(2), array(2), array(2), array(2), array(2), array(2), array(2), array(2), array(2), array(2), array(2), array(2), array(2), array(2), array(2), array(2), array(2), array(2), array(2), array(2), array(2), array(2), array(2), array(2), array(2), array(2), array(2), array(2), array(2), array(2), array(2), array(2), array(2), array(2), array(2), array(2), array(2), array(2), array(2), array(2), array(2), array(2), array(2), array(2), array(2), array(2), array(2), array(2), array(2), array(2), array(2), array(2), array(2), array(2), array(2), array(2), array(2), array(2), array(2), array(2), array(2), array(2), array(2), array(2), array(2), array(2), array(2), array(2), array(2), array(2), array(2), array(2), array(2), array(2), array(2), array(2), array(2), array(2), array(2), array(2), array(2), array(2), array(2), array(2), array(2), array(2), array(2), array(2), array(2), array(2), array(2), array(2), array(2), array(2), array(2), array(2), array(2), array(2), array(2), array(2), array(2), array(2), array(2), array(2), array(2), array(2), array(2), array(2), array(2), array(2), array(2), array(2), array(2), array(2), array(2), array(2), array(2), array(2), array(2), array(2), array(2), array(2), array(2), array(2), array(2), array(2), array(2), array(2), array(2), array(2), array(2), array(2), array(2), array(2), array(2), array(2), array(2), array(2), array(2), array(2), array(2), array(2), array(2), array(2), array(2), array(2), array(2), array(2), array(2), array(2), array(2), array(2), array(2), array(2), array(2), array(2), array(2), array(2), array(2), array(2), array(2), array(2), array(2), array(2), array(2), array(2), array(2), array(2), array(2), array(2), array(2), array(2), array(2), array(2), array(2), array(2), array(2), array(2), array(2), array(2), array(2), array(2), array(2), array(2), array(2), array(2), array(2), array(2), array(2), array(2), array(2), array(2), array(2), array(2), array(2), array(2), array(2), array(2), array(2), array(2), array(2), array(2), array(2), array(2), array(2), array(2), array(2), array(2), array(2), array(2), array(2), array(2), array(2), array(2), array(2), array(2), array(2), array(2), array(2), array(2), array(2), array(2), array(2), array(2), array(2), array(2), array(2), array(2), array(2), array(2), array(2), array(2), array(2), array(2), array(2), array(2), array(2), array(2), array(2), array(2), array(2), array(2), array(2), array(2), array(2), array(2), array(2), array(2), array(2), array(2), array(2), array(2), array(2), array(2), array(2), array(2), array(2), array(2), array(2), array(2), array(2), array(2), array(2), array(2), array(2), array(2), array(2), array(2), array(2), array(2), array(2), array(2), array(2), array(2), array(2), array(2), array(2), array(2), array(2), array(2), array(2), array(2), array(2), array(2), array(2), array(2), array(2), array(2), array(2), array(2), array(2), array(2), array(2), array(2), array(2), array(2), array(2), array(2), array(2), array(2), array(2), array(2), array(2), array(2), array(2), array(2), array(2), array(2), array(2), array(2), array(2), array(2), array(2), array(2), array(2), array(2), array(2), array(2), array(2), array(2), array(2), array(2), array(2), array(2), array(2), array(2), array(2), array(2), array(2), array(2), array(2), array(2), array(2), array(2), array(2), array(2), array(2), array(2), array(2), array(2), array(2), array(2), array(2), array(2), array(2), array(2), array(2), array(2), array(2), array(2), array(2), array(2), array(2), array(2), array(2), array(2), array(2), array(2), array(2), array(2), array(2), array(2), array(2), array(2), array(2), array(2), array(2), array(2), array(2), array(2), array(2), array(2), array(2), array(2), array(2), array(2), array(2), array(2), array(2), array(2), array(2), array(2), array(2), array(2), array(2), array(2), array(2), array(2), array(2), array(2), array(2), array(2), array(2), array(2), array(2), array(2), array(2), array(2), array(2), array(2), array(2), array(2), array(2), array(2), array(2), array(2), array(2), array(2), array(2), array(2), array(2), array(2), array(2), array(2), array(2), array(2), array(2), array(2), array(2), array(2), array(2), array(2), array(2), array(2), array(2), array(2), array(2), array(2), array(2), array(2), array(2), array(2), array(2), array(2), array(2), array(2), array(2), array(2), array(2), array(2), array(2), array(2), array(2), array(2), array(2), array(2), array(2), array(2), array(2), array(2), array(2), array(2), array(2), array(2), array(2), array(2), array(2), array(2), array(2), array(2), array(2), array(2), array(2), array(2), array(2), array(2), array(2), array(2), array(2), array(2), array(2), array(2), array(2), array(2), array(2), array(2), array(2), array(2), array(2), array(3), array(3), array(3), array(3), array(3), array(3), array(3), array(3), array(3), array(3), array(3), array(3), array(3), array(3), array(3), array(3), array(3), array(3), array(3), array(3), array(3), array(3), array(3), array(3), array(3), array(3), array(3), array(3), array(3), array(3), array(3), array(3), array(3), array(3), array(3), array(3), array(3), array(3), array(3), array(3), array(3), array(3), array(3), array(3), array(3), array(3), array(3), array(3), array(3), array(3), array(3), array(3), array(3), array(3), array(3), array(3), array(3), array(3), array(3), array(3), array(3), array(3), array(3), array(3), array(3), array(3), array(3), array(3), array(3), array(3), array(3), array(3), array(3), array(3), array(3), array(3), array(3), array(3), array(3), array(3), array(3), array(3), array(3), array(3), array(3), array(3), array(3), array(3), array(3), array(3), array(3), array(3), array(3), array(3), array(3), array(3), array(3), array(3), array(3), array(3), array(3), array(3), array(3), array(3), array(3), array(3), array(3), array(3), array(3), array(3), array(3), array(3), array(3), array(3), array(3), array(3), array(3), array(3), array(3), array(3), array(3), array(3), array(3), array(3), array(3), array(3), array(3), array(3), array(3), array(3), array(3), array(3), array(3), array(3), array(3), array(3), array(3), array(3), array(3), array(3), array(3), array(3), array(3), array(3), array(3), array(3), array(3), array(3), array(3), array(3), array(3), array(3), array(3), array(3), array(3), array(3), array(3), array(3), array(3), array(3), array(3), array(3), array(3), array(3), array(3), array(3), array(3), array(3), array(3), array(3), array(3), array(3), array(3), array(3), array(3), array(3), array(3), array(3), array(3), array(3), array(3), array(3), array(3), array(3), array(3), array(3), array(3), array(3), array(3), array(3), array(3), array(3), array(3), array(3), array(3), array(3), array(3), array(3), array(3), array(3), array(3), array(3), array(3), array(3), array(3), array(3), array(3), array(3), array(3), array(3), array(3), array(3), array(3), array(3), array(3), array(3), array(3), array(3), array(3), array(3), array(3), array(3), array(3), array(3), array(3), array(3), array(3), array(3), array(3), array(3), array(3), array(3), array(3), array(3), array(3), array(3), array(3), array(3), array(3), array(3), array(3), array(3), array(3), array(3), array(3), array(3), array(3), array(3), array(3), array(3), array(3), array(3), array(3), array(3), array(3)]\n"
          ]
        }
      ]
    },
    {
      "cell_type": "code",
      "source": [
        "from tensorflow.keras.utils import to_categorical\n",
        "train_labels = to_categorical(train_labels)"
      ],
      "metadata": {
        "id": "sitgwNbSBmaw"
      },
      "execution_count": null,
      "outputs": []
    },
    {
      "cell_type": "code",
      "source": [
        "train_data = train_data.reshape(-1, 224,224, 3)"
      ],
      "metadata": {
        "id": "wb_n1TSSB_GO"
      },
      "execution_count": null,
      "outputs": []
    },
    {
      "cell_type": "code",
      "source": [
        "train_labels.shape"
      ],
      "metadata": {
        "colab": {
          "base_uri": "https://localhost:8080/"
        },
        "id": "P3WqCVvgF47I",
        "outputId": "bb108946-481c-4eaa-ba1d-14e76475ba10"
      },
      "execution_count": null,
      "outputs": [
        {
          "output_type": "execute_result",
          "data": {
            "text/plain": [
              "(1999, 4)"
            ]
          },
          "metadata": {},
          "execution_count": 7
        }
      ]
    },
    {
      "cell_type": "code",
      "source": [
        "# #######################################################################################3"
      ],
      "metadata": {
        "id": "-VgrseHAIGaE"
      },
      "execution_count": null,
      "outputs": []
    },
    {
      "cell_type": "code",
      "source": [
        "from keras.models import Sequential, Model, load_model\n",
        "from keras import applications\n",
        "from keras import optimizers\n",
        "from keras.layers import Dropout, Flatten, Dense\n",
        "from tensorflow.keras.optimizers import Adam\n",
        "import tensorflow as tf\n",
        "\n",
        "base_model =tf.keras.applications.VGG16(\n",
        "    include_top= False,\n",
        "    weights='imagenet',\n",
        "    input_tensor=None,\n",
        "    input_shape=(224,224,3),\n",
        ")\n",
        "base_model.summary()"
      ],
      "metadata": {
        "colab": {
          "base_uri": "https://localhost:8080/"
        },
        "id": "XHAYUsV7CJS2",
        "outputId": "95c59ccc-a002-42ef-cb33-927a0a640c9a"
      },
      "execution_count": null,
      "outputs": [
        {
          "output_type": "stream",
          "name": "stdout",
          "text": [
            "Downloading data from https://storage.googleapis.com/tensorflow/keras-applications/vgg16/vgg16_weights_tf_dim_ordering_tf_kernels_notop.h5\n",
            "58889256/58889256 [==============================] - 0s 0us/step\n",
            "Model: \"vgg16\"\n",
            "_________________________________________________________________\n",
            " Layer (type)                Output Shape              Param #   \n",
            "=================================================================\n",
            " input_2 (InputLayer)        [(None, 224, 224, 3)]     0         \n",
            "                                                                 \n",
            " block1_conv1 (Conv2D)       (None, 224, 224, 64)      1792      \n",
            "                                                                 \n",
            " block1_conv2 (Conv2D)       (None, 224, 224, 64)      36928     \n",
            "                                                                 \n",
            " block1_pool (MaxPooling2D)  (None, 112, 112, 64)      0         \n",
            "                                                                 \n",
            " block2_conv1 (Conv2D)       (None, 112, 112, 128)     73856     \n",
            "                                                                 \n",
            " block2_conv2 (Conv2D)       (None, 112, 112, 128)     147584    \n",
            "                                                                 \n",
            " block2_pool (MaxPooling2D)  (None, 56, 56, 128)       0         \n",
            "                                                                 \n",
            " block3_conv1 (Conv2D)       (None, 56, 56, 256)       295168    \n",
            "                                                                 \n",
            " block3_conv2 (Conv2D)       (None, 56, 56, 256)       590080    \n",
            "                                                                 \n",
            " block3_conv3 (Conv2D)       (None, 56, 56, 256)       590080    \n",
            "                                                                 \n",
            " block3_pool (MaxPooling2D)  (None, 28, 28, 256)       0         \n",
            "                                                                 \n",
            " block4_conv1 (Conv2D)       (None, 28, 28, 512)       1180160   \n",
            "                                                                 \n",
            " block4_conv2 (Conv2D)       (None, 28, 28, 512)       2359808   \n",
            "                                                                 \n",
            " block4_conv3 (Conv2D)       (None, 28, 28, 512)       2359808   \n",
            "                                                                 \n",
            " block4_pool (MaxPooling2D)  (None, 14, 14, 512)       0         \n",
            "                                                                 \n",
            " block5_conv1 (Conv2D)       (None, 14, 14, 512)       2359808   \n",
            "                                                                 \n",
            " block5_conv2 (Conv2D)       (None, 14, 14, 512)       2359808   \n",
            "                                                                 \n",
            " block5_conv3 (Conv2D)       (None, 14, 14, 512)       2359808   \n",
            "                                                                 \n",
            " block5_pool (MaxPooling2D)  (None, 7, 7, 512)         0         \n",
            "                                                                 \n",
            "=================================================================\n",
            "Total params: 14,714,688\n",
            "Trainable params: 14,714,688\n",
            "Non-trainable params: 0\n",
            "_________________________________________________________________\n"
          ]
        }
      ]
    },
    {
      "cell_type": "code",
      "source": [
        "i=0\n",
        "while i != 5:\n",
        "    base_model.layers[i].trainable = False\n",
        "    i+=1\n",
        "add_model = Sequential()\n",
        "add_model.add(Flatten(input_shape=base_model.output_shape[1:]))\n",
        "add_model.add(Dense(256, activation='relu'))\n",
        "add_model.add(Dense(4, activation='softmax'))\n",
        "\n",
        "model = Model(inputs=base_model.input, outputs=add_model(base_model.output))\n",
        "model.compile(loss='categorical_crossentropy', optimizer=tf.optimizers.Adam(lr=1e-4),\n",
        "              metrics=['accuracy'])\n",
        "\n",
        "model.summary()"
      ],
      "metadata": {
        "colab": {
          "base_uri": "https://localhost:8080/"
        },
        "id": "mwRNiDTgCgbE",
        "outputId": "c414bfb8-edf1-4f49-b8f0-bbff30fbaab9"
      },
      "execution_count": null,
      "outputs": [
        {
          "output_type": "stream",
          "name": "stdout",
          "text": [
            "Model: \"model_1\"\n",
            "_________________________________________________________________\n",
            " Layer (type)                Output Shape              Param #   \n",
            "=================================================================\n",
            " input_2 (InputLayer)        [(None, 224, 224, 3)]     0         \n",
            "                                                                 \n",
            " block1_conv1 (Conv2D)       (None, 224, 224, 64)      1792      \n",
            "                                                                 \n",
            " block1_conv2 (Conv2D)       (None, 224, 224, 64)      36928     \n",
            "                                                                 \n",
            " block1_pool (MaxPooling2D)  (None, 112, 112, 64)      0         \n",
            "                                                                 \n",
            " block2_conv1 (Conv2D)       (None, 112, 112, 128)     73856     \n",
            "                                                                 \n",
            " block2_conv2 (Conv2D)       (None, 112, 112, 128)     147584    \n",
            "                                                                 \n",
            " block2_pool (MaxPooling2D)  (None, 56, 56, 128)       0         \n",
            "                                                                 \n",
            " block3_conv1 (Conv2D)       (None, 56, 56, 256)       295168    \n",
            "                                                                 \n",
            " block3_conv2 (Conv2D)       (None, 56, 56, 256)       590080    \n",
            "                                                                 \n",
            " block3_conv3 (Conv2D)       (None, 56, 56, 256)       590080    \n",
            "                                                                 \n",
            " block3_pool (MaxPooling2D)  (None, 28, 28, 256)       0         \n",
            "                                                                 \n",
            " block4_conv1 (Conv2D)       (None, 28, 28, 512)       1180160   \n",
            "                                                                 \n",
            " block4_conv2 (Conv2D)       (None, 28, 28, 512)       2359808   \n",
            "                                                                 \n",
            " block4_conv3 (Conv2D)       (None, 28, 28, 512)       2359808   \n",
            "                                                                 \n",
            " block4_pool (MaxPooling2D)  (None, 14, 14, 512)       0         \n",
            "                                                                 \n",
            " block5_conv1 (Conv2D)       (None, 14, 14, 512)       2359808   \n",
            "                                                                 \n",
            " block5_conv2 (Conv2D)       (None, 14, 14, 512)       2359808   \n",
            "                                                                 \n",
            " block5_conv3 (Conv2D)       (None, 14, 14, 512)       2359808   \n",
            "                                                                 \n",
            " block5_pool (MaxPooling2D)  (None, 7, 7, 512)         0         \n",
            "                                                                 \n",
            " sequential_1 (Sequential)   (None, 4)                 6423812   \n",
            "                                                                 \n",
            "=================================================================\n",
            "Total params: 21,138,500\n",
            "Trainable params: 21,025,924\n",
            "Non-trainable params: 112,576\n",
            "_________________________________________________________________\n"
          ]
        }
      ]
    },
    {
      "cell_type": "code",
      "source": [],
      "metadata": {
        "id": "RCU4hAzBSyLO"
      },
      "execution_count": null,
      "outputs": []
    },
    {
      "cell_type": "code",
      "source": [
        "from keras.callbacks import ModelCheckpoint, LearningRateScheduler, EarlyStopping, ReduceLROnPlateau, TensorBoard\n",
        "earlyStopping = EarlyStopping(monitor='val_loss',\n",
        "                              min_delta=0,\n",
        "                              patience=3,\n",
        "                              verbose=1)\n",
        "\n",
        "early_stop=[earlyStopping]\n",
        "\n",
        "progress = model.fit(train_data,train_labels, batch_size=32, epochs=10, validation_split=.25)\n",
        "\n",
        "from matplotlib import pyplot as plt\n",
        "plt.plot(progress.history['accuracy'])\n",
        "plt.plot(progress.history['val_accuracy'])\n",
        "plt.title('VGG 16 Model accuracy')\n",
        "plt.ylabel('accuracy')\n",
        "plt.xlabel('epoch')\n",
        "plt.legend(['train', 'val'], loc='upper left')\n",
        "plt.show()\n",
        "\n",
        "plt.plot(progress.history['loss'])\n",
        "plt.plot(progress.history['val_loss'])\n",
        "plt.title('VGG 16 Model loss')\n",
        "plt.ylabel('loss')\n",
        "plt.xlabel('epoch')\n",
        "plt.legend(['train', 'val'], loc='upper left')\n",
        "plt.show()"
      ],
      "metadata": {
        "colab": {
          "base_uri": "https://localhost:8080/",
          "height": 920
        },
        "id": "XGppojRTFFNd",
        "outputId": "d23d16a0-19e8-4f71-9154-d8031252b921"
      },
      "execution_count": null,
      "outputs": [
        {
          "output_type": "stream",
          "name": "stdout",
          "text": [
            "Epoch 1/10\n",
            "47/47 [==============================] - 1654s 35s/step - loss: 0.6057 - accuracy: 0.7205 - val_loss: 9.6721 - val_accuracy: 0.0000e+00\n",
            "Epoch 2/10\n",
            "47/47 [==============================] - 1660s 35s/step - loss: 0.3007 - accuracy: 0.8826 - val_loss: 10.2695 - val_accuracy: 0.0000e+00\n",
            "Epoch 3/10\n",
            "47/47 [==============================] - 1641s 35s/step - loss: 0.2156 - accuracy: 0.9153 - val_loss: 10.8603 - val_accuracy: 0.0000e+00\n",
            "Epoch 4/10\n",
            "47/47 [==============================] - 1639s 35s/step - loss: 0.1332 - accuracy: 0.9513 - val_loss: 11.8049 - val_accuracy: 0.0000e+00\n",
            "Epoch 5/10\n",
            "47/47 [==============================] - 1637s 35s/step - loss: 0.0923 - accuracy: 0.9653 - val_loss: 16.9913 - val_accuracy: 0.0000e+00\n",
            "Epoch 6/10\n",
            "47/47 [==============================] - 1638s 35s/step - loss: 0.0715 - accuracy: 0.9753 - val_loss: 15.6098 - val_accuracy: 0.0000e+00\n",
            "Epoch 7/10\n",
            "47/47 [==============================] - 1639s 35s/step - loss: 0.0587 - accuracy: 0.9780 - val_loss: 14.8570 - val_accuracy: 0.0000e+00\n",
            "Epoch 8/10\n",
            "47/47 [==============================] - 1639s 35s/step - loss: 0.0547 - accuracy: 0.9807 - val_loss: 11.9331 - val_accuracy: 0.0000e+00\n",
            "Epoch 9/10\n",
            "47/47 [==============================] - 1637s 35s/step - loss: 0.0401 - accuracy: 0.9853 - val_loss: 12.4313 - val_accuracy: 0.0000e+00\n",
            "Epoch 10/10\n",
            "47/47 [==============================] - 1636s 35s/step - loss: 0.0233 - accuracy: 0.9920 - val_loss: 13.5529 - val_accuracy: 0.0000e+00\n"
          ]
        },
        {
          "output_type": "display_data",
          "data": {
            "text/plain": [
              "<Figure size 432x288 with 1 Axes>"
            ],
            "image/png": "[encoded data removed]"
          },
          "metadata": {
            "needs_background": "light"
          }
        },
        {
          "output_type": "display_data",
          "data": {
            "text/plain": [
              "<Figure size 432x288 with 1 Axes>"
            ],
            "image/png": "[encoded data removed]"
          },
          "metadata": {
            "needs_background": "light"
          }
        }
      ]
    },
    {
      "cell_type": "code",
      "source": [
        "#####19"
      ],
      "metadata": {
        "id": "royPqlKYSdhA"
      },
      "execution_count": null,
      "outputs": []
    },
    {
      "cell_type": "code",
      "source": [
        "from keras.models import Sequential, Model, load_model\n",
        "from keras import applications\n",
        "from keras import optimizers\n",
        "from keras.layers import Dropout, Flatten, Dense\n",
        "from tensorflow.keras.optimizers import Adam\n",
        "import tensorflow as tf\n",
        "+\n",
        "base_model =tf.keras.applications.VGG16(\n",
        "    include_top= False,\n",
        "    weights='imagenet',\n",
        "    input_tensor=None,\n",
        "    input_shape=(224,224,3),\n",
        ")\n",
        "base_model.summary()"
      ],
      "metadata": {
        "colab": {
          "base_uri": "https://localhost:8080/"
        },
        "id": "_Ec2iH0qTGIP",
        "outputId": "129b46dd-a0c2-4458-831f-af3d3799e815"
      },
      "execution_count": null,
      "outputs": [
        {
          "output_type": "stream",
          "name": "stdout",
          "text": [
            "Downloading data from https://storage.googleapis.com/tensorflow/keras-applications/vgg16/vgg16_weights_tf_dim_ordering_tf_kernels_notop.h5\n",
            "58889256/58889256 [==============================] - 2s 0us/step\n",
            "Model: \"vgg16\"\n",
            "_________________________________________________________________\n",
            " Layer (type)                Output Shape              Param #   \n",
            "=================================================================\n",
            " input_2 (InputLayer)        [(None, 224, 224, 3)]     0         \n",
            "                                                                 \n",
            " block1_conv1 (Conv2D)       (None, 224, 224, 64)      1792      \n",
            "                                                                 \n",
            " block1_conv2 (Conv2D)       (None, 224, 224, 64)      36928     \n",
            "                                                                 \n",
            " block1_pool (MaxPooling2D)  (None, 112, 112, 64)      0         \n",
            "                                                                 \n",
            " block2_conv1 (Conv2D)       (None, 112, 112, 128)     73856     \n",
            "                                                                 \n",
            " block2_conv2 (Conv2D)       (None, 112, 112, 128)     147584    \n",
            "                                                                 \n",
            " block2_pool (MaxPooling2D)  (None, 56, 56, 128)       0         \n",
            "                                                                 \n",
            " block3_conv1 (Conv2D)       (None, 56, 56, 256)       295168    \n",
            "                                                                 \n",
            " block3_conv2 (Conv2D)       (None, 56, 56, 256)       590080    \n",
            "                                                                 \n",
            " block3_conv3 (Conv2D)       (None, 56, 56, 256)       590080    \n",
            "                                                                 \n",
            " block3_pool (MaxPooling2D)  (None, 28, 28, 256)       0         \n",
            "                                                                 \n",
            " block4_conv1 (Conv2D)       (None, 28, 28, 512)       1180160   \n",
            "                                                                 \n",
            " block4_conv2 (Conv2D)       (None, 28, 28, 512)       2359808   \n",
            "                                                                 \n",
            " block4_conv3 (Conv2D)       (None, 28, 28, 512)       2359808   \n",
            "                                                                 \n",
            " block4_pool (MaxPooling2D)  (None, 14, 14, 512)       0         \n",
            "                                                                 \n",
            " block5_conv1 (Conv2D)       (None, 14, 14, 512)       2359808   \n",
            "                                                                 \n",
            " block5_conv2 (Conv2D)       (None, 14, 14, 512)       2359808   \n",
            "                                                                 \n",
            " block5_conv3 (Conv2D)       (None, 14, 14, 512)       2359808   \n",
            "                                                                 \n",
            " block5_pool (MaxPooling2D)  (None, 7, 7, 512)         0         \n",
            "                                                                 \n",
            "=================================================================\n",
            "Total params: 14,714,688\n",
            "Trainable params: 14,714,688\n",
            "Non-trainable params: 0\n",
            "_________________________________________________________________\n"
          ]
        }
      ]
    },
    {
      "cell_type": "code",
      "source": [
        "i=0\n",
        "while i != 5:\n",
        "    base_model.layers[i].trainable = False\n",
        "    i+=1\n",
        "add_model = Sequential()\n",
        "add_model.add(Flatten(input_shape=base_model.output_shape[1:]))\n",
        "add_model.add(Dense(256, activation='relu'))\n",
        "add_model.add(Dense(4, activation='softmax'))\n",
        "\n",
        "model = Model(inputs=base_model.input, outputs=add_model(base_model.output))\n",
        "model.compile(loss='categorical_crossentropy', optimizer=tf.optimizers.Adam(lr=1e-4),\n",
        "              metrics=['accuracy'])\n",
        "\n",
        "model.summary()"
      ],
      "metadata": {
        "colab": {
          "base_uri": "https://localhost:8080/"
        },
        "id": "yz-IScwxS3hb",
        "outputId": "44870f7a-ef5e-4341-c8b0-5958147e5ab6"
      },
      "execution_count": null,
      "outputs": [
        {
          "output_type": "stream",
          "name": "stdout",
          "text": [
            "Model: \"model_1\"\n",
            "_________________________________________________________________\n",
            " Layer (type)                Output Shape              Param #   \n",
            "=================================================================\n",
            " input_2 (InputLayer)        [(None, 224, 224, 3)]     0         \n",
            "                                                                 \n",
            " block1_conv1 (Conv2D)       (None, 224, 224, 64)      1792      \n",
            "                                                                 \n",
            " block1_conv2 (Conv2D)       (None, 224, 224, 64)      36928     \n",
            "                                                                 \n",
            " block1_pool (MaxPooling2D)  (None, 112, 112, 64)      0         \n",
            "                                                                 \n",
            " block2_conv1 (Conv2D)       (None, 112, 112, 128)     73856     \n",
            "                                                                 \n",
            " block2_conv2 (Conv2D)       (None, 112, 112, 128)     147584    \n",
            "                                                                 \n",
            " block2_pool (MaxPooling2D)  (None, 56, 56, 128)       0         \n",
            "                                                                 \n",
            " block3_conv1 (Conv2D)       (None, 56, 56, 256)       295168    \n",
            "                                                                 \n",
            " block3_conv2 (Conv2D)       (None, 56, 56, 256)       590080    \n",
            "                                                                 \n",
            " block3_conv3 (Conv2D)       (None, 56, 56, 256)       590080    \n",
            "                                                                 \n",
            " block3_pool (MaxPooling2D)  (None, 28, 28, 256)       0         \n",
            "                                                                 \n",
            " block4_conv1 (Conv2D)       (None, 28, 28, 512)       1180160   \n",
            "                                                                 \n",
            " block4_conv2 (Conv2D)       (None, 28, 28, 512)       2359808   \n",
            "                                                                 \n",
            " block4_conv3 (Conv2D)       (None, 28, 28, 512)       2359808   \n",
            "                                                                 \n",
            " block4_pool (MaxPooling2D)  (None, 14, 14, 512)       0         \n",
            "                                                                 \n",
            " block5_conv1 (Conv2D)       (None, 14, 14, 512)       2359808   \n",
            "                                                                 \n",
            " block5_conv2 (Conv2D)       (None, 14, 14, 512)       2359808   \n",
            "                                                                 \n",
            " block5_conv3 (Conv2D)       (None, 14, 14, 512)       2359808   \n",
            "                                                                 \n",
            " block5_pool (MaxPooling2D)  (None, 7, 7, 512)         0         \n",
            "                                                                 \n",
            " sequential_1 (Sequential)   (None, 4)                 6423812   \n",
            "                                                                 \n",
            "=================================================================\n",
            "Total params: 21,138,500\n",
            "Trainable params: 21,025,924\n",
            "Non-trainable params: 112,576\n",
            "_________________________________________________________________\n"
          ]
        },
        {
          "output_type": "stream",
          "name": "stderr",
          "text": [
            "/usr/local/lib/python3.7/dist-packages/keras/optimizers/optimizer_v2/adam.py:110: UserWarning: The `lr` argument is deprecated, use `learning_rate` instead.\n",
            "  super(Adam, self).__init__(name, **kwargs)\n"
          ]
        }
      ]
    },
    {
      "cell_type": "code",
      "source": [
        "from keras.callbacks import ModelCheckpoint, LearningRateScheduler, EarlyStopping, ReduceLROnPlateau, TensorBoard\n",
        "earlyStopping = EarlyStopping(monitor='val_loss',\n",
        "                              min_delta=0,\n",
        "                              patience=3,\n",
        "                              verbose=1)\n",
        "\n",
        "early_stop=[earlyStopping]\n",
        "\n",
        "progress = model.fit(train_data,train_labels, batch_size=32, epochs=3, validation_split=.25)\n",
        "\n",
        "from matplotlib import pyplot as plt\n",
        "plt.plot(progress.history['accuracy'])\n",
        "plt.plot(progress.history['val_accuracy'])\n",
        "plt.title('VGG 19 Model accuracy')\n",
        "plt.ylabel('Accuracy')\n",
        "plt.xlabel('Epoch')\n",
        "plt.legend(['Train', 'Validation'], loc='upper left')\n",
        "plt.show()\n",
        "\n",
        "plt.plot(progress.history['loss'])\n",
        "plt.plot(progress.history['val_loss'])\n",
        "plt.title('VGG 19 Model Loss')\n",
        "plt.ylabel('Loss')\n",
        "plt.xlabel('Epoch')\n",
        "plt.legend(['Train', 'Validation'], loc='upper left')\n",
        "plt.show()"
      ],
      "metadata": {
        "colab": {
          "base_uri": "https://localhost:8080/",
          "height": 617
        },
        "id": "Ph4L95a7TCjp",
        "outputId": "87bc3107-7ccd-45b8-e269-459a6cd39372"
      },
      "execution_count": null,
      "outputs": [
        {
          "output_type": "stream",
          "name": "stdout",
          "text": [
            "Epoch 1/3\n",
            "47/47 [==============================] - 2502s 53s/step - loss: 0.5174 - accuracy: 0.7645 - val_loss: 14.9640 - val_accuracy: 0.0000e+00\n",
            "Epoch 2/3\n",
            "47/47 [==============================] - 2495s 53s/step - loss: 0.2053 - accuracy: 0.9233 - val_loss: 10.5973 - val_accuracy: 0.0000e+00\n",
            "Epoch 3/3\n",
            "47/47 [==============================] - 2487s 53s/step - loss: 0.1400 - accuracy: 0.9506 - val_loss: 14.7377 - val_accuracy: 0.0000e+00\n"
          ]
        },
        {
          "output_type": "display_data",
          "data": {
            "text/plain": [
              "<Figure size 432x288 with 1 Axes>"
            ],
            "image/png": "[encoded data removed]"
          },
          "metadata": {
            "needs_background": "light"
          }
        },
        {
          "output_type": "error",
          "ename": "KeyError",
          "evalue": "ignored",
          "traceback": [
            "\u001b[0;31m---------------------------------------------------------------------------\u001b[0m",
            "\u001b[0;31mKeyError\u001b[0m                                  Traceback (most recent call last)",
            "\u001b[0;32m<ipython-input-11-fd3f5bfc8e20>\u001b[0m in \u001b[0;36m<module>\u001b[0;34m\u001b[0m\n\u001b[1;32m     18\u001b[0m \u001b[0mplt\u001b[0m\u001b[0;34m.\u001b[0m\u001b[0mshow\u001b[0m\u001b[0;34m(\u001b[0m\u001b[0;34m)\u001b[0m\u001b[0;34m\u001b[0m\u001b[0;34m\u001b[0m\u001b[0m\n\u001b[1;32m     19\u001b[0m \u001b[0;34m\u001b[0m\u001b[0m\n\u001b[0;32m---> 20\u001b[0;31m \u001b[0mplt\u001b[0m\u001b[0;34m.\u001b[0m\u001b[0mplot\u001b[0m\u001b[0;34m(\u001b[0m\u001b[0mprogress\u001b[0m\u001b[0;34m.\u001b[0m\u001b[0mhistory\u001b[0m\u001b[0;34m[\u001b[0m\u001b[0;34m'Loss'\u001b[0m\u001b[0;34m]\u001b[0m\u001b[0;34m)\u001b[0m\u001b[0;34m\u001b[0m\u001b[0;34m\u001b[0m\u001b[0m\n\u001b[0m\u001b[1;32m     21\u001b[0m \u001b[0mplt\u001b[0m\u001b[0;34m.\u001b[0m\u001b[0mplot\u001b[0m\u001b[0;34m(\u001b[0m\u001b[0mprogress\u001b[0m\u001b[0;34m.\u001b[0m\u001b[0mhistory\u001b[0m\u001b[0;34m[\u001b[0m\u001b[0;34m'Val_loss'\u001b[0m\u001b[0;34m]\u001b[0m\u001b[0;34m)\u001b[0m\u001b[0;34m\u001b[0m\u001b[0;34m\u001b[0m\u001b[0m\n\u001b[1;32m     22\u001b[0m \u001b[0mplt\u001b[0m\u001b[0;34m.\u001b[0m\u001b[0mtitle\u001b[0m\u001b[0;34m(\u001b[0m\u001b[0;34m'VGG 19 Model Loss'\u001b[0m\u001b[0;34m)\u001b[0m\u001b[0;34m\u001b[0m\u001b[0;34m\u001b[0m\u001b[0m\n",
            "\u001b[0;31mKeyError\u001b[0m: 'Loss'"
          ]
        }
      ]
    }
  ]
}